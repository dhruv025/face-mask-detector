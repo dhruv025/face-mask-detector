{
  "nbformat": 4,
  "nbformat_minor": 0,
  "metadata": {
    "colab": {
      "name": "training_the_model.ipynb",
      "provenance": [],
      "authorship_tag": "ABX9TyMid5WX/a3qzGN7hF6XhRwp",
      "include_colab_link": true
    },
    "kernelspec": {
      "name": "python3",
      "display_name": "Python 3"
    }
  },
  "cells": [
    {
      "cell_type": "markdown",
      "metadata": {
        "id": "view-in-github",
        "colab_type": "text"
      },
      "source": [
        "<a href=\"https://colab.research.google.com/github/dhruv025/face-mask-detector/blob/master/training_the_model.ipynb\" target=\"_parent\"><img src=\"https://colab.research.google.com/assets/colab-badge.svg\" alt=\"Open In Colab\"/></a>"
      ]
    },
    {
      "cell_type": "code",
      "metadata": {
        "id": "Q19F9EzKLcXq",
        "colab_type": "code",
        "colab": {
          "base_uri": "https://localhost:8080/",
          "height": 34
        },
        "outputId": "81def980-7417-4f26-98aa-9a535824b882"
      },
      "source": [
        "from google.colab import drive\n",
        "drive.mount('/content/drive')"
      ],
      "execution_count": null,
      "outputs": [
        {
          "output_type": "stream",
          "text": [
            "Drive already mounted at /content/drive; to attempt to forcibly remount, call drive.mount(\"/content/drive\", force_remount=True).\n"
          ],
          "name": "stdout"
        }
      ]
    },
    {
      "cell_type": "code",
      "metadata": {
        "id": "mLimcSB2Masd",
        "colab_type": "code",
        "colab": {}
      },
      "source": [
        "import numpy as np\n",
        "data = np.load('drive/My Drive/data.npy')\n",
        "target = np.load('drive/My Drive/target.npy')"
      ],
      "execution_count": null,
      "outputs": []
    },
    {
      "cell_type": "code",
      "metadata": {
        "id": "CYzT5b12Ncds",
        "colab_type": "code",
        "colab": {
          "base_uri": "https://localhost:8080/",
          "height": 34
        },
        "outputId": "6dbbcf24-ee41-4fd5-e0e6-b9683d7e42c4"
      },
      "source": [
        "input_shape = data.shape[1:]\n",
        "input_shape"
      ],
      "execution_count": null,
      "outputs": [
        {
          "output_type": "execute_result",
          "data": {
            "text/plain": [
              "(100, 100, 1)"
            ]
          },
          "metadata": {
            "tags": []
          },
          "execution_count": 13
        }
      ]
    },
    {
      "cell_type": "code",
      "metadata": {
        "id": "yqdL-yIrO5HT",
        "colab_type": "code",
        "colab": {}
      },
      "source": [
        "from keras.models import Sequential\n",
        "from keras.layers import Dense,Activation,Flatten,Dropout\n",
        "from keras.layers import Conv2D,MaxPooling2D\n",
        "from keras.callbacks import ModelCheckpoint"
      ],
      "execution_count": null,
      "outputs": []
    },
    {
      "cell_type": "code",
      "metadata": {
        "id": "7sJ2siaoXDLw",
        "colab_type": "code",
        "colab": {}
      },
      "source": [
        "model=Sequential()\n",
        "\n",
        "model.add(Conv2D(200,(3,3),input_shape=data.shape[1:]))\n",
        "model.add(Activation('relu'))\n",
        "model.add(MaxPooling2D(pool_size=(2,2)))\n",
        "\n",
        "model.add(Conv2D(100,(3,3)))\n",
        "model.add(Activation('relu'))\n",
        "model.add(MaxPooling2D(pool_size=(2,2)))\n",
        "\n",
        "model.add(Flatten())\n",
        "model.add(Dropout(0.5))\n",
        "\n",
        "model.add(Dense(50,activation='relu'))\n",
        "model.add(Dense(2,activation='softmax'))\n",
        "\n",
        "model.compile(loss='categorical_crossentropy',optimizer='adam',metrics=['accuracy'])"
      ],
      "execution_count": null,
      "outputs": []
    },
    {
      "cell_type": "code",
      "metadata": {
        "id": "pmPlYmXJmy51",
        "colab_type": "code",
        "colab": {}
      },
      "source": [
        "from sklearn.model_selection import train_test_split\n",
        "train_data,test_data,train_target,test_target=train_test_split(data,target,test_size=0.2)"
      ],
      "execution_count": null,
      "outputs": []
    },
    {
      "cell_type": "code",
      "metadata": {
        "id": "ulh5ktGEsoRq",
        "colab_type": "code",
        "colab": {
          "base_uri": "https://localhost:8080/",
          "height": 940
        },
        "outputId": "095809af-55a2-460e-f25e-3079dfb3a0d0"
      },
      "source": [
        "checkpoint = ModelCheckpoint('model-{epoch:03d}.model',monitor='val_loss',verbose=0,save_best_only=True,mode='auto')\n",
        "history=model.fit(train_data,train_target,epochs=20,callbacks=[checkpoint],validation_split=0.2)"
      ],
      "execution_count": null,
      "outputs": [
        {
          "output_type": "stream",
          "text": [
            "Epoch 1/20\n",
            "77/77 [==============================] - ETA: 0s - loss: 0.5940 - accuracy: 0.6827WARNING:tensorflow:From /usr/local/lib/python3.6/dist-packages/tensorflow/python/training/tracking/tracking.py:111: Model.state_updates (from tensorflow.python.keras.engine.training) is deprecated and will be removed in a future version.\n",
            "Instructions for updating:\n",
            "This property should not be used in TensorFlow 2.0, as updates are applied automatically.\n",
            "WARNING:tensorflow:From /usr/local/lib/python3.6/dist-packages/tensorflow/python/training/tracking/tracking.py:111: Layer.updates (from tensorflow.python.keras.engine.base_layer) is deprecated and will be removed in a future version.\n",
            "Instructions for updating:\n",
            "This property should not be used in TensorFlow 2.0, as updates are applied automatically.\n",
            "INFO:tensorflow:Assets written to: model-001.model/assets\n",
            "77/77 [==============================] - 192s 2s/step - loss: 0.5940 - accuracy: 0.6827 - val_loss: 0.4712 - val_accuracy: 0.8029\n",
            "Epoch 2/20\n",
            "77/77 [==============================] - ETA: 0s - loss: 0.4336 - accuracy: 0.7984INFO:tensorflow:Assets written to: model-002.model/assets\n",
            "77/77 [==============================] - 187s 2s/step - loss: 0.4336 - accuracy: 0.7984 - val_loss: 0.3604 - val_accuracy: 0.8453\n",
            "Epoch 3/20\n",
            "77/77 [==============================] - ETA: 0s - loss: 0.3198 - accuracy: 0.8640INFO:tensorflow:Assets written to: model-003.model/assets\n",
            "77/77 [==============================] - 188s 2s/step - loss: 0.3198 - accuracy: 0.8640 - val_loss: 0.2759 - val_accuracy: 0.9007\n",
            "Epoch 4/20\n",
            "77/77 [==============================] - ETA: 0s - loss: 0.2706 - accuracy: 0.8790INFO:tensorflow:Assets written to: model-004.model/assets\n",
            "77/77 [==============================] - 191s 2s/step - loss: 0.2706 - accuracy: 0.8790 - val_loss: 0.2726 - val_accuracy: 0.8860\n",
            "Epoch 5/20\n",
            "77/77 [==============================] - 187s 2s/step - loss: 0.2100 - accuracy: 0.9108 - val_loss: 0.3202 - val_accuracy: 0.8762\n",
            "Epoch 6/20\n",
            "77/77 [==============================] - ETA: 0s - loss: 0.1807 - accuracy: 0.9275INFO:tensorflow:Assets written to: model-006.model/assets\n",
            "77/77 [==============================] - 188s 2s/step - loss: 0.1807 - accuracy: 0.9275 - val_loss: 0.2194 - val_accuracy: 0.9169\n",
            "Epoch 7/20\n",
            "77/77 [==============================] - 190s 2s/step - loss: 0.1439 - accuracy: 0.9446 - val_loss: 0.2566 - val_accuracy: 0.9023\n",
            "Epoch 8/20\n",
            "77/77 [==============================] - 186s 2s/step - loss: 0.1194 - accuracy: 0.9540 - val_loss: 0.2383 - val_accuracy: 0.9137\n",
            "Epoch 9/20\n",
            "77/77 [==============================] - 186s 2s/step - loss: 0.1038 - accuracy: 0.9650 - val_loss: 0.2282 - val_accuracy: 0.9283\n",
            "Epoch 10/20\n",
            "77/77 [==============================] - 190s 2s/step - loss: 0.0773 - accuracy: 0.9739 - val_loss: 0.2379 - val_accuracy: 0.9235\n",
            "Epoch 11/20\n",
            "77/77 [==============================] - 186s 2s/step - loss: 0.0818 - accuracy: 0.9719 - val_loss: 0.2434 - val_accuracy: 0.9104\n",
            "Epoch 12/20\n",
            "77/77 [==============================] - ETA: 0s - loss: 0.0821 - accuracy: 0.9690INFO:tensorflow:Assets written to: model-012.model/assets\n",
            "77/77 [==============================] - 187s 2s/step - loss: 0.0821 - accuracy: 0.9690 - val_loss: 0.2137 - val_accuracy: 0.9316\n",
            "Epoch 13/20\n",
            "77/77 [==============================] - 190s 2s/step - loss: 0.0573 - accuracy: 0.9792 - val_loss: 0.2174 - val_accuracy: 0.9186\n",
            "Epoch 14/20\n",
            "77/77 [==============================] - 186s 2s/step - loss: 0.0537 - accuracy: 0.9829 - val_loss: 0.2508 - val_accuracy: 0.9169\n",
            "Epoch 15/20\n",
            "77/77 [==============================] - 186s 2s/step - loss: 0.0345 - accuracy: 0.9898 - val_loss: 0.2463 - val_accuracy: 0.9251\n",
            "Epoch 16/20\n",
            "77/77 [==============================] - 186s 2s/step - loss: 0.0306 - accuracy: 0.9906 - val_loss: 0.2741 - val_accuracy: 0.9218\n",
            "Epoch 17/20\n",
            "77/77 [==============================] - 190s 2s/step - loss: 0.0289 - accuracy: 0.9914 - val_loss: 0.2302 - val_accuracy: 0.9381\n",
            "Epoch 18/20\n",
            "77/77 [==============================] - 187s 2s/step - loss: 0.0406 - accuracy: 0.9862 - val_loss: 0.2346 - val_accuracy: 0.9267\n",
            "Epoch 19/20\n",
            "77/77 [==============================] - 187s 2s/step - loss: 0.0202 - accuracy: 0.9943 - val_loss: 0.2320 - val_accuracy: 0.9397\n",
            "Epoch 20/20\n",
            "77/77 [==============================] - 190s 2s/step - loss: 0.0244 - accuracy: 0.9927 - val_loss: 0.2507 - val_accuracy: 0.9381\n"
          ],
          "name": "stdout"
        }
      ]
    },
    {
      "cell_type": "code",
      "metadata": {
        "id": "dVyc4oWStE6Q",
        "colab_type": "code",
        "colab": {
          "base_uri": "https://localhost:8080/",
          "height": 52
        },
        "outputId": "50236a8f-f799-4bda-ab8b-6549676fea04"
      },
      "source": [
        "print(model.evaluate(test_data,test_target))"
      ],
      "execution_count": null,
      "outputs": [
        {
          "output_type": "stream",
          "text": [
            "24/24 [==============================] - 15s 645ms/step - loss: 0.2607 - accuracy: 0.9466\n",
            "[0.26067477464675903, 0.9466145634651184]\n"
          ],
          "name": "stdout"
        }
      ]
    },
    {
      "cell_type": "code",
      "metadata": {
        "id": "lWcee4s9_qPc",
        "colab_type": "code",
        "colab": {}
      },
      "source": [
        "model.save('drive/My Drive/model.h5')"
      ],
      "execution_count": null,
      "outputs": []
    }
  ]
}